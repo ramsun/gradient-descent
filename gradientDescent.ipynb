{
  "nbformat": 4,
  "nbformat_minor": 0,
  "metadata": {
    "colab": {
      "name": "gradientDescent.ipynb",
      "provenance": [],
      "collapsed_sections": []
    },
    "kernelspec": {
      "name": "python3",
      "display_name": "Python 3"
    }
  },
  "cells": [
    {
      "cell_type": "markdown",
      "metadata": {
        "id": "-DOmBIwJ7yUJ",
        "colab_type": "text"
      },
      "source": [
        "# Gradient Descent Exploration\n",
        "This script explores two use cases for the gradient descent algorithm:\n",
        "1. Minimization for the bottom half of a sphere in ${\\rm I\\!R^3}$ (or any arbitrary function)\n",
        "2. Linear regression"
      ]
    },
    {
      "cell_type": "code",
      "metadata": {
        "id": "fVrBph-lNZY2",
        "colab_type": "code",
        "colab": {}
      },
      "source": [
        "import tensorflow as tf\n",
        "import numpy as np\n",
        "import matplotlib.pyplot as plt\n",
        "import math"
      ],
      "execution_count": 1,
      "outputs": []
    },
    {
      "cell_type": "markdown",
      "metadata": {
        "id": "5tVs--fyiFSo",
        "colab_type": "text"
      },
      "source": [
        "## Minimization for Bottom Half of Sphere\n",
        "<img src=\"https://drive.google.com/uc?id=1PbhQWAcnKC52CKzuUV8YiJpqCTfeSKe9\" width=\"400\" height=\"200\" />\n",
        "\n",
        "This section attempts to use GD to minimize a cost function that is modeled as the bottom half of a sphere.  This function can be modeled in ${\\rm I\\!R^3}$ as:\n",
        "\n",
        "$$𝑓(𝑥,𝑦)=𝑧=-\\sqrt{25−(𝑥−2)^2−(𝑦−3)^2}$$\n",
        "\n",
        "The properties of the sphere are:\n",
        "* Center at x = 2, y = 3, z = 0\n",
        "* Radius = 5"
      ]
    },
    {
      "cell_type": "code",
      "metadata": {
        "id": "bOyRk-o8RUwd",
        "colab_type": "code",
        "colab": {}
      },
      "source": [
        "# Function definitions of the function and the partial derivatives\n",
        "def sphere_function(x,y):\n",
        "  z = math.sqrt((25 - (x-2)**2 - (y-3)**2)) # ** for carrot (^) symbol\n",
        "  return z\n",
        "\n",
        "def dz_dx(x,y):\n",
        "  output = (x-2) / math.sqrt(25 - (x-2)**2 - (y-3)**2)\n",
        "  return output\n",
        "\n",
        "def dz_dy(x,y):\n",
        "  output = (y-3) / math.sqrt(25 - (x-2)**2 - (y-3)**2)\n",
        "  return output"
      ],
      "execution_count": 2,
      "outputs": []
    },
    {
      "cell_type": "code",
      "metadata": {
        "id": "Zgd3MDp4jPAE",
        "colab_type": "code",
        "colab": {}
      },
      "source": [
        "# The initial guess can be below or above the target and the math\n",
        "# will take care of itself\n",
        "learning_rate = 0.01\n",
        "max_limit = 7500\n",
        "x_current = 0\n",
        "y_current = 0\n",
        "x_history = np.zeros(max_limit)\n",
        "y_history = np.zeros(max_limit)\n",
        "for i in range(max_limit):\n",
        "  x_history[i] = x_current\n",
        "  y_history[i] = y_current\n",
        "  dx = dz_dx(x_current,y_current)\n",
        "  dy = dz_dy(x_current,y_current)\n",
        "  # Minimization means subtraction of partial derivative. Increment x and y\n",
        "  x_current = x_current - learning_rate * dx\n",
        "  y_current = y_current - learning_rate * dy"
      ],
      "execution_count": 3,
      "outputs": []
    },
    {
      "cell_type": "code",
      "metadata": {
        "id": "Ol5fXbBwpPw2",
        "colab_type": "code",
        "colab": {
          "base_uri": "https://localhost:8080/",
          "height": 316
        },
        "outputId": "867b37ac-bab4-4bfc-e4ff-e4d53295dd11"
      },
      "source": [
        "# Plotting the histories to see where convergence occurs\n",
        "plt.plot(x_history)\n",
        "plt.plot(y_history)\n",
        "plt.legend(['x', 'y'],loc=\"upper left\")\n",
        "print(\"Number of iterations = \", max_limit)\n",
        "print(\"Max x value from gradient descent: \", x_history[max_limit-1])\n",
        "print(\"Max y value from gradient descent: \", y_history[max_limit-1])"
      ],
      "execution_count": 4,
      "outputs": [
        {
          "output_type": "stream",
          "text": [
            "Number of iterations =  7500\n",
            "Max x value from gradient descent:  1.9999994754936903\n",
            "Max y value from gradient descent:  2.9999992132405353\n"
          ],
          "name": "stdout"
        },
        {
          "output_type": "display_data",
          "data": {
            "image/png": "[encoded data removed]",
            "text/plain": [
              "<Figure size 432x288 with 1 Axes>"
            ]
          },
          "metadata": {
            "tags": [],
            "needs_background": "light"
          }
        }
      ]
    },
    {
      "cell_type": "code",
      "metadata": {
        "id": "yzkPihTosx0k",
        "colab_type": "code",
        "colab": {
          "base_uri": "https://localhost:8080/",
          "height": 68
        },
        "outputId": "fca10573-e3fd-4474-f29d-c812340613ea"
      },
      "source": [
        "# Now, we ought to check how quickly this convergence actually happens\n",
        "# Input: 'x' or 'y' as strings, which tells the function which function to\n",
        "# count the number of convergence steps for. \n",
        "# Output: Number of steps it took for the GD algorithm to converge to a solution\n",
        "# This exact convergence occurs when the diffrential increments dx or dy come\n",
        "# close to zero.  It never will reach zero, so we set a threshold, epsilon, to\n",
        "# 0.00001, where we are close enough to our solution.\n",
        "def convergence_steps(x_or_y):\n",
        "  learning_rate = 0.01\n",
        "  max_limit = 7500\n",
        "  x_current = 0\n",
        "  y_current = 0\n",
        "  epsilon = 0.000001\n",
        "  for i in range(max_limit):\n",
        "    dx = dz_dx(x_current,y_current)\n",
        "    dy = dz_dy(x_current,y_current)\n",
        "    x_current = x_current - learning_rate * dx\n",
        "    y_current = y_current - learning_rate * dy\n",
        "    # Check if convergence is for x or y variable\n",
        "    if (x_or_y == 'x'):\n",
        "      # Take the absolute of dx and dy to handle +/- values\n",
        "      if (abs(dx) <= epsilon):\n",
        "        num_steps = i\n",
        "        return num_steps\n",
        "    elif (x_or_y == 'y'):  \n",
        "      if (abs(dy) <= epsilon):\n",
        "        num_steps = i\n",
        "        return num_steps\n",
        "\n",
        "# Calculate number of iterations needed to converge to the minimum value of z\n",
        "convergence_steps_x = convergence_steps('x')\n",
        "convergence_steps_y = convergence_steps('y')\n",
        "\n",
        "print(\"For an initial value of x = 0 and y = 0:\")\n",
        "print(\"Steps needed to converge to x: \", convergence_steps_x)\n",
        "print(\"Steps needed to converge to y: \", convergence_steps_y)"
      ],
      "execution_count": 5,
      "outputs": [
        {
          "output_type": "stream",
          "text": [
            "For an initial value of x = 0 and y = 0:\n",
            "Steps needed to converge to x:  6373\n",
            "Steps needed to converge to y:  6576\n"
          ],
          "name": "stdout"
        }
      ]
    },
    {
      "cell_type": "markdown",
      "metadata": {
        "id": "50tLRx-Ywtwi",
        "colab_type": "text"
      },
      "source": [
        "## Linear Regression\n",
        "This section performs linear regression with scikit-learn and gradient descent and compares the two results.\n",
        "\n",
        "For the equation y = mx+b, the residual sum of squares the function we need to optimize.  The residual sum of squares is as follows:\n",
        "\n",
        "$$ RSS = \\sum_{i=1}^{N} (y_{i} - (mx_{i} + b))^2$$\n",
        "\n",
        "The RSS is simply the sum of the sqaure of the residuals (residuals can be thought of as the error, or actual - predicted).\n",
        "\n",
        "We can consider this equation as a function of m and b, since y and x are from our dataset, typically, and we want to find a relation between the predictor variable, x, and the explanatory variable (response variable), y.\n",
        "\n",
        "The partial derivatives of the RSS with respect to b and m are:  \n",
        "$$\\frac{\\partial RSS(m,b)}{\\partial b} = -2\\sum_{i=1}^{N} (y_{i} - (mx_{i} + b)$$\n",
        "\n",
        "$$\\frac{\\partial RSS(m,b)}{\\partial m} = -2\\sum_{i=1}^{N} (y_{i} - (mx_{i} + b))x_{i}$$\n",
        "\n",
        "### Conclusion\n",
        "The regressions for the two models were found to be:\n",
        "1. Scikit-learn model:\n",
        "$y = 3.88399457x + 11.22062684$\n",
        "2. Gradient descent model:\n",
        "$y = 3.89994122 + 11.00475563$\n",
        "\n",
        "Scikit-learn uses the inverse of a matrix method to find the slope and y-intercept, which means that it is one of the most accurate methods for finding a regression line.  The gradient descent model was surprisingly close, but something to keep in mind is that it was only run with 25000 iterations, meaning that it will keep getting closer to the Scikit-learn model over time.  GD never converges to the right answer, but it can get pretty close given enough iterations.\n"
      ]
    },
    {
      "cell_type": "code",
      "metadata": {
        "id": "ha4b-4bqwHlg",
        "colab_type": "code",
        "colab": {
          "base_uri": "https://localhost:8080/",
          "height": 282
        },
        "outputId": "8d7bbe71-6bbb-444e-a094-e043f95994f1"
      },
      "source": [
        "# Create data set from numpy\n",
        "# train_x is the predictor.  train_y is the response variable. \n",
        "n_samples = 30\n",
        "train_x = np.linspace(0,20,n_samples)\n",
        "train_y = 3.7 * train_x + 14 + 4 * np.random.randn(n_samples)\n",
        "plt.plot(train_x, train_y,'o')"
      ],
      "execution_count": 6,
      "outputs": [
        {
          "output_type": "execute_result",
          "data": {
            "text/plain": [
              "[<matplotlib.lines.Line2D at 0x7fd674c48cc0>]"
            ]
          },
          "metadata": {
            "tags": []
          },
          "execution_count": 6
        },
        {
          "output_type": "display_data",
          "data": {
            "image/png": "[encoded data removed]",
            "text/plain": [
              "<Figure size 432x288 with 1 Axes>"
            ]
          },
          "metadata": {
            "tags": [],
            "needs_background": "light"
          }
        }
      ]
    },
    {
      "cell_type": "markdown",
      "metadata": {
        "id": "GPQp1_BHnroN",
        "colab_type": "text"
      },
      "source": [
        "### Scikit Learn Model"
      ]
    },
    {
      "cell_type": "code",
      "metadata": {
        "id": "h_V87xXMwppI",
        "colab_type": "code",
        "colab": {
          "base_uri": "https://localhost:8080/",
          "height": 51
        },
        "outputId": "9341a806-71c8-471a-8bf9-3cf19f46f9ef"
      },
      "source": [
        "# Regression model from sklearn\n",
        "from sklearn import linear_model\n",
        "from sklearn.metrics import mean_squared_error, r2_score\n",
        "\n",
        "# Preprocess the data for LinearRegression Model\n",
        "sklearn_input_value = train_x.reshape(-1,1)\n",
        "sklearn_output_value = train_y.reshape(-1,1)\n",
        "\n",
        "# Create and fit the model\n",
        "linreg = linear_model.LinearRegression()\n",
        "linreg.fit(sklearn_input_value, sklearn_output_value)\n",
        "\n",
        "# Print m and b to terminal\n",
        "print(\"y-intercept: b = \",linreg.intercept_)\n",
        "print(\"slope: m = \",linreg.coef_)"
      ],
      "execution_count": 7,
      "outputs": [
        {
          "output_type": "stream",
          "text": [
            "y-intercept: b =  [11.22062684]\n",
            "slope: m =  [[3.88399457]]\n"
          ],
          "name": "stdout"
        }
      ]
    },
    {
      "cell_type": "markdown",
      "metadata": {
        "id": "gvKTfYsZnvwC",
        "colab_type": "text"
      },
      "source": [
        "### Gradient Descent Model"
      ]
    },
    {
      "cell_type": "code",
      "metadata": {
        "id": "1JrezfgmcSVG",
        "colab_type": "code",
        "colab": {}
      },
      "source": [
        "# Partial derivative functions of RSS\n",
        "def dRSS_db(m,b,x,y):\n",
        "  return (-2*sum((y-m*x-b)))\n",
        "\n",
        "def dRSS_dm(m,b,x,y):\n",
        "  return (-2*sum((y-m*x-b)*x))"
      ],
      "execution_count": 8,
      "outputs": []
    },
    {
      "cell_type": "code",
      "metadata": {
        "id": "Hs2lKuvokNHW",
        "colab_type": "code",
        "colab": {}
      },
      "source": [
        "m_current = 0\n",
        "b_current = 0\n",
        "learning_rate = 0.00001\n",
        "max_limit = 25000\n",
        "m_history = np.zeros(max_limit)\n",
        "b_history = np.zeros(max_limit)\n",
        "for i in range(max_limit):\n",
        "  m_history[i] = m_current\n",
        "  b_history[i] = b_current\n",
        "  dm = dRSS_dm(m_current,b_current,train_x,train_y)\n",
        "  db = dRSS_db(m_current,b_current,train_x,train_y)\n",
        "  m_current = m_current - learning_rate * dm\n",
        "  b_current = b_current - learning_rate * db"
      ],
      "execution_count": 9,
      "outputs": []
    },
    {
      "cell_type": "code",
      "metadata": {
        "id": "di9uynuSrm2d",
        "colab_type": "code",
        "colab": {
          "base_uri": "https://localhost:8080/",
          "height": 316
        },
        "outputId": "1bb729fe-921f-4727-c732-d56a6f16d0b5"
      },
      "source": [
        "plt.plot(m_history)\n",
        "plt.plot(b_history)\n",
        "plt.legend(['m', 'b'],loc=\"upper left\")\n",
        "print(\"Number of iterations = \", max_limit)\n",
        "print(\"Max m value from gradient descent: \", m_history[max_limit-1])\n",
        "print(\"Max b value from gradient descent: \", b_history[max_limit-1])"
      ],
      "execution_count": 10,
      "outputs": [
        {
          "output_type": "stream",
          "text": [
            "Number of iterations =  25000\n",
            "Max m value from gradient descent:  3.899941222667007\n",
            "Max b value from gradient descent:  11.004755633355993\n"
          ],
          "name": "stdout"
        },
        {
          "output_type": "display_data",
          "data": {
            "image/png": "[encoded data removed]",
            "text/plain": [
              "<Figure size 432x288 with 1 Axes>"
            ]
          },
          "metadata": {
            "tags": [],
            "needs_background": "light"
          }
        }
      ]
    }
  ]
}